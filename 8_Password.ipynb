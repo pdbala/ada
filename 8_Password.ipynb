{
 "cells": [
  {
   "cell_type": "code",
   "execution_count": 8,
   "id": "68f6840a",
   "metadata": {},
   "outputs": [],
   "source": [
    "import re\n",
    "import random\n",
    "import string"
   ]
  },
  {
   "cell_type": "code",
   "execution_count": 9,
   "id": "27f96061",
   "metadata": {},
   "outputs": [],
   "source": [
    "def check_password_strength(password):\n",
    "    length_error = len(password) < 8\n",
    "    digit_error = re.search(r\"\\d\", password) is None\n",
    "    uppercase_error = re.search(r\"[A-Z]\", password) is None\n",
    "    lowercase_error = re.search(r\"[a-z]\", password) is None\n",
    "    special_char_error = re.search(r\"[!@#$%^&*()\\-_=+{};:,<.>]\", password) is None\n",
    "\n",
    "    errors = [length_error, digit_error, uppercase_error, lowercase_error, special_char_error]\n",
    "\n",
    "    error_messages = [\n",
    "        \"Password should have at least 8 characters.\",\n",
    "        \"Password should contain at least one digit.\",\n",
    "        \"Password should contain at least one uppercase letter.\",\n",
    "        \"Password should contain at least one lowercase letter.\",\n",
    "        \"Password should contain at least one special character (!@#$%^&*()-_=+{};:,<.>).\"\n",
    "    ]\n",
    "\n",
    "    if any(errors):\n",
    "        print(\"The password is not strong enough. Please consider the following improvements:\")\n",
    "        for i in range(len(errors)):\n",
    "            if errors[i]:\n",
    "                print(f\"- {error_messages[i]}\")\n",
    "        return False\n",
    "    else:\n",
    "        print(\"Congratulations! The password is strong.\")\n",
    "        return True\n",
    "\n"
   ]
  },
  {
   "cell_type": "code",
   "execution_count": 10,
   "id": "e99f50d7",
   "metadata": {},
   "outputs": [],
   "source": [
    "def suggest_password():\n",
    "    characters = string.ascii_letters + string.digits + string.punctuation\n",
    "    suggested_password = ''.join(random.choice(characters) for _ in range(12)) \n",
    "    print(f\"We suggest a strong password for you: {suggested_password}\")\n",
    "    return suggested_password"
   ]
  },
  {
   "cell_type": "code",
   "execution_count": 11,
   "id": "3f687d05",
   "metadata": {},
   "outputs": [
    {
     "name": "stdout",
     "output_type": "stream",
     "text": [
      "Enter your password: sdgsfgs33\n",
      "The password is not strong enough. Please consider the following improvements:\n",
      "- Password should contain at least one uppercase letter.\n",
      "- Password should contain at least one special character (!@#$%^&*()-_=+{};:,<.>).\n",
      "We suggest a strong password for you: 5RabCZ1gnx\\=\n",
      "Congratulations! The password is strong.\n"
     ]
    }
   ],
   "source": [
    "user_password = input(\"Enter your password: \")\n",
    "while not check_password_strength(user_password):\n",
    "    user_password = suggest_password()"
   ]
  }
 ],
 "metadata": {
  "kernelspec": {
   "display_name": "Python 3 (ipykernel)",
   "language": "python",
   "name": "python3"
  },
  "language_info": {
   "codemirror_mode": {
    "name": "ipython",
    "version": 3
   },
   "file_extension": ".py",
   "mimetype": "text/x-python",
   "name": "python",
   "nbconvert_exporter": "python",
   "pygments_lexer": "ipython3",
   "version": "3.11.4"
  }
 },
 "nbformat": 4,
 "nbformat_minor": 5
}
