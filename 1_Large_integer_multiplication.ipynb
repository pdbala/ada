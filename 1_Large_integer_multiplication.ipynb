{
 "cells": [
  {
   "cell_type": "code",
   "execution_count": 1,
   "id": "4439e3c8",
   "metadata": {},
   "outputs": [],
   "source": [
    "def LIM(x,y):\n",
    "    if x<10 and y<10:\n",
    "        return x*y\n",
    "    n=max(len(str(x)),len(str(y)))\n",
    "    m=n//2\n",
    "    a,b=divmod(x,10**m)\n",
    "    c,d=divmod(y,10**m)\n",
    "    ac=LIM(a,c)\n",
    "    bd=LIM(b,d)\n",
    "    ad_bc=LIM(a+b,c+d)-ac-bd\n",
    "    return ac*10**(2*m)+ad_bc*10**m+bd"
   ]
  },
  {
   "cell_type": "code",
   "execution_count": 2,
   "id": "89e87daa",
   "metadata": {},
   "outputs": [
    {
     "name": "stdout",
     "output_type": "stream",
     "text": [
      "Enter first number:146123\n",
      "Enter second number:352120\n",
      "51452830760\n"
     ]
    }
   ],
   "source": [
    "a=int(input(\"Enter first number:\"))\n",
    "b=int(input(\"Enter second number:\"))\n",
    "p=LIM(a,b)\n",
    "print(p)"
   ]
  },
  {
   "cell_type": "code",
   "execution_count": null,
   "id": "c9782f85",
   "metadata": {},
   "outputs": [],
   "source": [
    "# O(n^(log 3))\n",
    "# O(n)"
   ]
  }
 ],
 "metadata": {
  "kernelspec": {
   "display_name": "Python 3 (ipykernel)",
   "language": "python",
   "name": "python3"
  },
  "language_info": {
   "codemirror_mode": {
    "name": "ipython",
    "version": 3
   },
   "file_extension": ".py",
   "mimetype": "text/x-python",
   "name": "python",
   "nbconvert_exporter": "python",
   "pygments_lexer": "ipython3",
   "version": "3.11.4"
  }
 },
 "nbformat": 4,
 "nbformat_minor": 5
}
