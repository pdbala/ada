{
  "nbformat": 4,
  "nbformat_minor": 0,
  "metadata": {
    "colab": {
      "provenance": []
    },
    "kernelspec": {
      "name": "python3",
      "display_name": "Python 3"
    },
    "language_info": {
      "name": "python"
    }
  },
  "cells": [
    {
      "cell_type": "code",
      "execution_count": 1,
      "metadata": {
        "colab": {
          "base_uri": "https://localhost:8080/"
        },
        "id": "Xqt6PPT9M3gg",
        "outputId": "b849c227-7113-4cd0-bfd6-86d48a4b63ef"
      },
      "outputs": [
        {
          "output_type": "stream",
          "name": "stdout",
          "text": [
            "The vertex cover of the given graph is : \n",
            "1 2 3 6 "
          ]
        }
      ],
      "source": [
        "from collections import defaultdict\n",
        "\n",
        "class Graph:\n",
        "\n",
        "\tdef __init__(self, vertices):\n",
        "\t\tself.V = vertices\n",
        "\t\tself.graph = defaultdict(list)\n",
        "\n",
        "\t# Function to add an edge to graph\n",
        "\tdef addEdge(self, u, v):\n",
        "\t\tself.graph[u].append(v)\n",
        "\n",
        "\t# The function to print vertex cover\n",
        "\tdef printVertexCover(self):\n",
        "\n",
        "\t\t# Initialize all vertices as not visited.\n",
        "\t\tvisited = [False] * (self.V)\n",
        "\n",
        "\t\t# Consider all edges one by one\n",
        "\t\tfor u in range(self.V):\n",
        "\t\t\tif not visited[u]:\n",
        "\t\t\t\tfor v in self.graph[u]:\n",
        "\t\t\t\t\tif not visited[v]:\n",
        "\n",
        "\t\t\t\t\t\t# Add the vertices (u, v) to the result set. We make the vertex\n",
        "\t\t\t\t\t\t# u and v visited so that all edges from/to them would  be ignored\n",
        "\t\t\t\t\t\tvisited[v] = True\n",
        "\t\t\t\t\t\tvisited[u] = True\n",
        "\t\t\t\t\t\tbreak\n",
        "\n",
        "\t\t# Print the vertex cover\n",
        "\t\tfor j in range(self.V):\n",
        "\t\t\tif visited[j]:\n",
        "\t\t\t\tprint(j, end = ' ')\n",
        "\n",
        "# Driver code\n",
        "g = Graph(7)\n",
        "g.addEdge(1, 2)\n",
        "g.addEdge(1, 4)\n",
        "g.addEdge(2, 3)\n",
        "g.addEdge(2, 5)\n",
        "g.addEdge(3, 6)\n",
        "g.addEdge(5, 6)\n",
        "g.addEdge(3, 7)\n",
        "\n",
        "print('The vertex cover of the given graph is : ')\n",
        "g.printVertexCover()"
      ]
    },
    {
      "cell_type": "code",
      "source": [
        "# Vertex Cover\n",
        "from collections import defaultdict\n",
        "\n",
        "class Graph:\n",
        "\n",
        "\tdef __init__(self, vertices):\n",
        "\n",
        "\t\tself.V = vertices\n",
        "\n",
        "\t\tself.graph = defaultdict(list)\n",
        "\n",
        "\tdef addEdge(self, u, v):\n",
        "\t\tself.graph[u].append(v)\n",
        "\n",
        "\tdef printVertexCover(self):\n",
        "\n",
        "\t\tvisited = [False] * (self.V)\n",
        "\t\tprint(\"Vertex Cover: \")\n",
        "\t\tfor u in range(self.V):\n",
        "\n",
        "\t\t\t# An edge is only picked when\n",
        "\t\t\t# both visited[u] and visited[v]\n",
        "\t\t\t# are false\n",
        "\t\t\tif not visited[u]:\n",
        "\n",
        "\t\t\t\t# Go through all adjacents of u and\n",
        "\t\t\t\t# pick the first not yet visited vertex\n",
        "\t\t\t\tfor v in self.graph[u]:\n",
        "\t\t\t\t\tif not visited[v]:\n",
        "\n",
        "\t\t\t\t\t\t# Add the vertices (u, v) to the\n",
        "\t\t\t\t\t\t# result set. We make the vertex\n",
        "\t\t\t\t\t\t# u and v visited so that all\n",
        "\t\t\t\t\t\t# edges from/to them would\n",
        "\t\t\t\t\t\t# be ignored\n",
        "\t\t\t\t\t\tvisited[v] = True\n",
        "\t\t\t\t\t\tvisited[u] = True\n",
        "\t\t\t\t\t\tbreak\n",
        "\n",
        "\t\t# Print the vertex cover\n",
        "\t\tfor j in range(self.V):\n",
        "\t\t\tif visited[j]:\n",
        "\t\t\t\tprint(j, end = ' ')\n",
        "\n",
        "\t\tprint()\n",
        "\n",
        "g = Graph(7)\n",
        "g.addEdge(0, 1)\n",
        "g.addEdge(0, 2)\n",
        "g.addEdge(1, 3)\n",
        "g.addEdge(3, 4)\n",
        "g.addEdge(4, 5)\n",
        "g.addEdge(5, 6)\n",
        "\n",
        "g.printVertexCover()"
      ],
      "metadata": {
        "colab": {
          "base_uri": "https://localhost:8080/"
        },
        "id": "_sz98Z7cNCGW",
        "outputId": "51b6c6be-aabe-44ac-b2bf-e312534718cc"
      },
      "execution_count": 2,
      "outputs": [
        {
          "output_type": "stream",
          "name": "stdout",
          "text": [
            "Vertex Cover: \n",
            "0 1 3 4 5 6 \n"
          ]
        }
      ]
    }
  ]
}