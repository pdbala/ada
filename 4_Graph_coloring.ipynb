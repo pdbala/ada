{
 "cells": [
  {
   "cell_type": "code",
   "execution_count": 1,
   "id": "57d62203",
   "metadata": {},
   "outputs": [],
   "source": [
    "def is_safe(n, graph, colors, c):\n",
    "    for i in range(n):\n",
    "        if graph[n][i] and c == colors[i]: return False\n",
    "    return True\n",
    "\n",
    "\n",
    "def graphColoringUtil(graph, color_nb, colors, n):\n",
    "    if color_nb+1 == n :\n",
    "        return True\n",
    "\n",
    "    for c in range(1, color_nb+1):\n",
    "        if is_safe(n, graph, colors, c):\n",
    "            colors[n] = c\n",
    "            if graphColoringUtil(graph, color_nb, colors, n+1): return True\n",
    "            colors[n] = 0"
   ]
  },
  {
   "cell_type": "code",
   "execution_count": 2,
   "id": "2b2a8bc5",
   "metadata": {},
   "outputs": [
    {
     "name": "stdout",
     "output_type": "stream",
     "text": [
      "[1, 2, 1, 3, 1]\n"
     ]
    }
   ],
   "source": [
    "vertex_nb = 5\n",
    "color_nb = 4\n",
    "colors = [0] * vertex_nb\n",
    "\n",
    "graph = [\n",
    "    [0, 1, 0, 0, 0],\n",
    "    [1, 0, 1, 1, 1],\n",
    "    [0, 1, 0, 1, 0],\n",
    "    [0, 1, 1, 0, 1],\n",
    "    [0, 1, 0, 1, 0],\n",
    "]\n",
    "\n",
    "if graphColoringUtil(graph, color_nb, colors, 0):\n",
    "    print (colors)\n",
    "else:\n",
    "    print (\"No solutions\")"
   ]
  },
  {
   "cell_type": "code",
   "execution_count": null,
   "id": "d2cb10b4",
   "metadata": {},
   "outputs": [],
   "source": [
    "O(N^2)\n",
    "O(N)"
   ]
  }
 ],
 "metadata": {
  "kernelspec": {
   "display_name": "Python 3 (ipykernel)",
   "language": "python",
   "name": "python3"
  },
  "language_info": {
   "codemirror_mode": {
    "name": "ipython",
    "version": 3
   },
   "file_extension": ".py",
   "mimetype": "text/x-python",
   "name": "python",
   "nbconvert_exporter": "python",
   "pygments_lexer": "ipython3",
   "version": "3.11.4"
  }
 },
 "nbformat": 4,
 "nbformat_minor": 5
}
