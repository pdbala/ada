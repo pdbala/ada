{
  "nbformat": 4,
  "nbformat_minor": 0,
  "metadata": {
    "colab": {
      "provenance": []
    },
    "kernelspec": {
      "name": "python3",
      "display_name": "Python 3"
    },
    "language_info": {
      "name": "python"
    }
  },
  "cells": [
    {
      "cell_type": "markdown",
      "source": [
        "ADA Huffman Code"
      ],
      "metadata": {
        "id": "jwVEdv8qL7ir"
      }
    },
    {
      "cell_type": "code",
      "source": [
        "#ADA Huffman Code\n",
        "import heapq\n",
        "class node:\n",
        "  def __init__(self,freq,symbol,left=None,right=None):\n",
        "    self.freq=freq\n",
        "    self.symbol=symbol\n",
        "    self.left=left\n",
        "    self.right=right\n",
        "    self.huff=' '\n",
        "  def __lt__(self,nxt):\n",
        "    return self.freq<nxt.freq\n",
        "\n",
        "def printNodes(node,val=' '):\n",
        "  newVal=val+str(node.huff)\n",
        "  if(node.left):\n",
        "    printNodes(node.left,newVal)\n",
        "  if(node.right):\n",
        "    printNodes(node.right,newVal)\n",
        "\n",
        "  if(not node.left and not node.right):\n",
        "    print(f\"{node.symbol}->{newVal}\")\n",
        "\n",
        "#chars=['a','e','i','o','u','s','t']\n",
        "#freq=[10,15,12,3,4,13,1]\n",
        "chars=['a','b','c','d','e','f']\n",
        "freq=[50,10,30,5,3,2]\n",
        "nodes=[]\n",
        "for x in range(len(chars)):\n",
        "  heapq.heappush(nodes, node(freq[x],chars[x]))\n",
        "\n",
        "while len(nodes)>1:\n",
        "  left=heapq.heappop(nodes)\n",
        "  right=heapq.heappop(nodes)\n",
        "  left.huff=0\n",
        "  right.huff=1\n",
        "  newNode=node(left.freq+right.freq, left.symbol+right.symbol, left, right)\n",
        "  heapq.heappush(nodes, newNode)\n",
        "\n",
        "printNodes(nodes[0])\n",
        "\n",
        "'''\n",
        "total 185 bits are required to convert to huffman code\n",
        "average bits required to represent each character:\n",
        "185/100= 1.85 bits per character\n"
      ],
      "metadata": {
        "colab": {
          "base_uri": "https://localhost:8080/"
        },
        "id": "U1fBNgq3L_du",
        "outputId": "2737af68-fd1b-4d67-8d08-64e84b783c1e"
      },
      "execution_count": 1,
      "outputs": [
        {
          "output_type": "stream",
          "name": "stdout",
          "text": [
            "a->  0\n",
            "b->  100\n",
            "d->  1010\n",
            "f->  10110\n",
            "e->  10111\n",
            "c->  11\n"
          ]
        }
      ]
    },
    {
      "cell_type": "markdown",
      "source": [
        "ADA Job Assignment Problem (Branch and Bound Algorithm)"
      ],
      "metadata": {
        "id": "2hLjBa3PMEjc"
      }
    },
    {
      "cell_type": "code",
      "source": [
        "#ADA Job Assignment Problem (Branch and Bound Algorithm)\n",
        "import queue\n",
        "\n",
        "N = 4\n",
        "\n",
        "class Node:\n",
        "    def __init__(self, x, y, assigned, parent=None):\n",
        "        self.parent = parent\n",
        "        self.pathCost = 0\n",
        "        self.cost = 0\n",
        "        self.workerID = x\n",
        "        self.jobID = y\n",
        "        self.assigned = assigned.copy()\n",
        "\n",
        "def calculateCost(costMatrix, x, y, assigned):\n",
        "    cost = 0\n",
        "    available = [True] * N\n",
        "\n",
        "    for i in range(x + 1, N):\n",
        "        min_cost = float('inf')\n",
        "        min_index = -1\n",
        "\n",
        "        for j in range(N):\n",
        "            if not assigned[j] and available[j] and costMatrix[i][j] < min_cost:\n",
        "                min_index = j\n",
        "                min_cost = costMatrix[i][j]\n",
        "\n",
        "        cost += min_cost\n",
        "        available[min_index] = False\n",
        "\n",
        "    return cost\n",
        "\n",
        "class Comp:\n",
        "    def __init__(self, node):\n",
        "        self.node = node\n",
        "\n",
        "    def __lt__(self, other):\n",
        "        return self.node.cost < other.node.cost\n",
        "\n",
        "def printAssignments(min_node):\n",
        "    if min_node.parent is None:\n",
        "        return\n",
        "\n",
        "    printAssignments(min_node.parent)\n",
        "    print(f\"Assign Worker {chr(min_node.workerID + ord('A'))} to Job {min_node.jobID}\")\n",
        "\n",
        "def findMinCost(costMatrix):\n",
        "    pq = queue.PriorityQueue()\n",
        "\n",
        "    assigned = [False] * N\n",
        "    root = Node(-1, -1, assigned, None)\n",
        "    root.pathCost = root.cost = 0\n",
        "    root.workerID = -1\n",
        "\n",
        "    pq.put(Comp(root))\n",
        "\n",
        "    while not pq.empty():\n",
        "        min_comp = pq.get()\n",
        "        min_node = min_comp.node\n",
        "\n",
        "        i = min_node.workerID + 1\n",
        "\n",
        "        if i == N:\n",
        "            printAssignments(min_node)\n",
        "            return min_node.cost\n",
        "\n",
        "        for j in range(N):\n",
        "            if not min_node.assigned[j]:\n",
        "                child = Node(i, j, min_node.assigned, min_node)\n",
        "                child.pathCost = min_node.pathCost + costMatrix[i][j]\n",
        "                child.cost = child.pathCost + calculateCost(costMatrix, i, j, child.assigned)\n",
        "                pq.put(Comp(child))\n",
        "                child.assigned[j] = True\n",
        "\n",
        "if __name__ == \"__main__\":\n",
        "    costMatrix = [\n",
        "        [9, 2, 7, 8],\n",
        "        [6, 4, 3, 7],\n",
        "        [5, 8, 1, 8],\n",
        "        [7, 6, 9, 4]\n",
        "    ]\n",
        "\n",
        "    print(\"\\nOptimal Cost is\", findMinCost(costMatrix))\n"
      ],
      "metadata": {
        "colab": {
          "base_uri": "https://localhost:8080/"
        },
        "id": "NCWMdzJWMIlc",
        "outputId": "ca4ea7f6-26c5-4fb6-c66a-dcfcaa949190"
      },
      "execution_count": null,
      "outputs": [
        {
          "output_type": "stream",
          "name": "stdout",
          "text": [
            "Assign Worker A to Job 1\n",
            "Assign Worker B to Job 0\n",
            "Assign Worker C to Job 2\n",
            "Assign Worker D to Job 3\n",
            "\n",
            "Optimal Cost is 13\n"
          ]
        }
      ]
    },
    {
      "cell_type": "markdown",
      "source": [
        "ADA Large Integer Multipication"
      ],
      "metadata": {
        "id": "76SMUcSxMScp"
      }
    },
    {
      "cell_type": "code",
      "source": [
        "#ADA Large Integer Multipication\n",
        "def karatsuba(x, y):\n",
        "    # Convert the numbers to strings for easier manipulation\n",
        "    x_str = str(x)\n",
        "    y_str = str(y)\n",
        "\n",
        "    # Base case: if either of the numbers is a single digit\n",
        "    if len(x_str) == 1 or len(y_str) == 1:\n",
        "        return x * y\n",
        "\n",
        "    # Find the middle index\n",
        "    n = max(len(x_str), len(y_str))\n",
        "    m = n // 2\n",
        "\n",
        "    # Split the numbers into halves\n",
        "    a, b = int(x_str[:-m]), int(x_str[-m:])\n",
        "    c, d = int(y_str[:-m]), int(y_str[-m:])\n",
        "\n",
        "    # Recursive calls\n",
        "    ac = karatsuba(a, c)\n",
        "    bd = karatsuba(b, d)\n",
        "    ad_bc = karatsuba(a + b, c + d) - ac - bd\n",
        "\n",
        "    # Combine the results\n",
        "    result = (10 ** (2 * m)) * ac + (10 ** m) * ad_bc + bd\n",
        "\n",
        "    return result\n",
        "\n",
        "# Input large integers\n",
        "num1 = int(input(\"Enter the first large integer: \"))\n",
        "num2 = int(input(\"Enter the second large integer: \"))\n",
        "\n",
        "product = karatsuba(num1, num2)\n",
        "print(\"Product:\", product)\n"
      ],
      "metadata": {
        "colab": {
          "base_uri": "https://localhost:8080/"
        },
        "id": "KIB_YgRKMTTe",
        "outputId": "e535e15a-5d56-4ef4-93d8-bc732421e8d3"
      },
      "execution_count": null,
      "outputs": [
        {
          "output_type": "stream",
          "name": "stdout",
          "text": [
            "Enter the first large integer: 1234\n",
            "Enter the second large integer: 6589\n",
            "Product: 8130826\n"
          ]
        }
      ]
    },
    {
      "cell_type": "markdown",
      "source": [
        "ADA Graph Coloring"
      ],
      "metadata": {
        "id": "jlBV-9pGMj0R"
      }
    },
    {
      "cell_type": "code",
      "source": [
        "#ADA Graph Coloring\n",
        "class Graph:\n",
        "    def __init__(self, vertices):\n",
        "        self.vertices = vertices\n",
        "        self.graph = {}\n",
        "\n",
        "    def add_edge(self, u, v):\n",
        "        if u not in self.graph:\n",
        "            self.graph[u] = []\n",
        "        if v not in self.graph:\n",
        "            self.graph[v] = []\n",
        "        self.graph[u].append(v)\n",
        "        self.graph[v].append(u)\n",
        "\n",
        "    def is_safe(self, v, c, color):\n",
        "        for neighbor in self.graph[v]:\n",
        "            if color[neighbor] == c:\n",
        "                return False\n",
        "        return True\n",
        "\n",
        "    def graph_coloring(self, m):\n",
        "        color = [-1] * self.vertices\n",
        "\n",
        "        def graph_color_util(v):\n",
        "            if v == self.vertices:\n",
        "                return True\n",
        "\n",
        "            for c in range(1, m+1):\n",
        "                if self.is_safe(v, c, color):\n",
        "                    color[v] = c\n",
        "                    if graph_color_util(v+1):\n",
        "                        return True\n",
        "                    color[v] = -1\n",
        "\n",
        "        if graph_color_util(0) is False:\n",
        "            return None  # No solution with m colors\n",
        "        return color\n",
        "\n",
        "def main():\n",
        "    num_stations = int(input(\"Enter the number of radio stations: \"))\n",
        "    g = Graph(num_stations)\n",
        "\n",
        "    while True:\n",
        "        edge = input(\"Enter an edge (format: 'station1 station2', press Enter to stop): \")\n",
        "        if edge == \"\":\n",
        "            break\n",
        "        station1, station2 = map(int, edge.split())\n",
        "        g.add_edge(station1, station2)\n",
        "\n",
        "    num_colors = int(input(\"Enter the number of available frequencies: \"))\n",
        "\n",
        "    coloring = g.graph_coloring(num_colors)\n",
        "    if coloring:\n",
        "        print(\"Radio Station - Frequency\")\n",
        "        for i in range(num_stations):\n",
        "            print(f\"Station {i}: Frequency {coloring[i]}\")\n",
        "    else:\n",
        "        print(\"No solution with the given number of frequencies.\")\n",
        "\n",
        "if __name__ == \"__main__\":\n",
        "    main()\n",
        "\n",
        "\n",
        "\"\"\"\n",
        "Sample input output graph\n",
        "Enter the number of radio stations: 5\n",
        "Enter an edge (format: 'station1 station2', press Enter to stop): 0  1\n",
        "Enter an edge (format: 'station1 station2', press Enter to stop): 0 2\n",
        "Enter an edge (format: 'station1 station2', press Enter to stop): 1 2\n",
        "Enter an edge (format: 'station1 station2', press Enter to stop): 1 3\n",
        "Enter an edge (format: 'station1 station2', press Enter to stop): 2 3\n",
        "Enter an edge (format: 'station1 station2', press Enter to stop): 3 4\n",
        "Enter an edge (format: 'station1 station2', press Enter to stop):\n",
        "Enter the number of available frequencies: 3\n",
        "Radio Station - Frequency\n",
        "Station 0: Frequency 1\n",
        "Station 1: Frequency 2\n",
        "Station 2: Frequency 3\n",
        "Station 3: Frequency 1\n",
        "Station 4: Frequency 2\n",
        "\"\"\""
      ],
      "metadata": {
        "colab": {
          "base_uri": "https://localhost:8080/",
          "height": 365
        },
        "id": "KM08q_VUMkYL",
        "outputId": "6cbce828-a1c6-4dc2-da54-b1563b3694e5"
      },
      "execution_count": null,
      "outputs": [
        {
          "output_type": "stream",
          "name": "stdout",
          "text": [
            "Enter the number of radio stations: 5\n",
            "Enter an edge (format: 'station1 station2', press Enter to stop): 0 1\n",
            "Enter an edge (format: 'station1 station2', press Enter to stop): 0 2\n",
            "Enter an edge (format: 'station1 station2', press Enter to stop): 1 2\n",
            "Enter an edge (format: 'station1 station2', press Enter to stop): 1 3\n",
            "Enter an edge (format: 'station1 station2', press Enter to stop): 2 3\n",
            "Enter an edge (format: 'station1 station2', press Enter to stop): 3 4\n",
            "Enter an edge (format: 'station1 station2', press Enter to stop): \n",
            "Enter the number of available frequencies: 3\n",
            "Radio Station - Frequency\n",
            "Station 0: Frequency 1\n",
            "Station 1: Frequency 2\n",
            "Station 2: Frequency 3\n",
            "Station 3: Frequency 1\n",
            "Station 4: Frequency 2\n"
          ]
        },
        {
          "output_type": "execute_result",
          "data": {
            "text/plain": [
              "\"\\nSample input output graph\\nEnter the number of radio stations: 5\\nEnter an edge (format: 'station1 station2', press Enter to stop): 0  1\\nEnter an edge (format: 'station1 station2', press Enter to stop): 0 2\\nEnter an edge (format: 'station1 station2', press Enter to stop): 1 2\\nEnter an edge (format: 'station1 station2', press Enter to stop): 1 3\\nEnter an edge (format: 'station1 station2', press Enter to stop): 2 3\\nEnter an edge (format: 'station1 station2', press Enter to stop): 3 4\\nEnter an edge (format: 'station1 station2', press Enter to stop): \\nEnter the number of available frequencies: 3\\nRadio Station - Frequency\\nStation 0: Frequency 1\\nStation 1: Frequency 2\\nStation 2: Frequency 3\\nStation 3: Frequency 1\\nStation 4: Frequency 2\\n\""
            ],
            "application/vnd.google.colaboratory.intrinsic+json": {
              "type": "string"
            }
          },
          "metadata": {},
          "execution_count": 8
        }
      ]
    },
    {
      "cell_type": "markdown",
      "source": [
        "ADA Bellman Ford"
      ],
      "metadata": {
        "id": "zTcI002rNRCx"
      }
    },
    {
      "cell_type": "code",
      "source": [
        "#ADA Bellman Ford\n",
        "class Graph:\n",
        "\n",
        "\tdef __init__(self, vertices):\n",
        "\t\tself.V = vertices\n",
        "\t\tself.graph = []\n",
        "\n",
        "\tdef addEdge(self, u, v, w):\n",
        "\t\tself.graph.append([u, v, w])\n",
        "\n",
        "\tdef printArr(self, dist):\n",
        "\t\tprint(\"Vertex Distance from Source\")\n",
        "\t\tfor i in range(self.V):\n",
        "\t\t\tprint(\"{0}\\t\\t{1}\".format(i, dist[i]))\n",
        "\n",
        "\tdef BellmanFord(self, src):\n",
        "\n",
        "\t\tdist = [float(\"Inf\")] * self.V\n",
        "\t\tdist[src] = 0\n",
        "\n",
        "\t\tfor _ in range(self.V - 1):\n",
        "\t\t\tfor u, v, w in self.graph:\n",
        "\t\t\t\tif dist[u] != float(\"Inf\") and dist[u] + w < dist[v]:\n",
        "\t\t\t\t\tdist[v] = dist[u] + w\n",
        "\n",
        "\t\tfor u, v, w in self.graph:\n",
        "\t\t\tif dist[u] != float(\"Inf\") and dist[u] + w < dist[v]:\n",
        "\t\t\t\tprint(\"Graph contains negative weight cycle\")\n",
        "\t\t\t\treturn\n",
        "\n",
        "\t\tself.printArr(dist)\n",
        "\n",
        "print(\"For graph 1:\")\n",
        "g = Graph(4)\n",
        "g.addEdge(0, 1, 5)\n",
        "g.addEdge(0, 2, 1)\n",
        "g.addEdge(1, 0, 2)\n",
        "g.addEdge(1, 3, 3)\n",
        "g.addEdge(2, 3, 6)\n",
        "g.addEdge(3, 0, -1)\n",
        "\n",
        "g.BellmanFord(0)\n",
        "\n",
        "print(\"\\nFor graph 2:\")\n",
        "g1 = Graph(6)\n",
        "g1.addEdge(0, 1, 5)\n",
        "g1.addEdge(1, 2, 1)\n",
        "g1.addEdge(1, 3, 2)\n",
        "g1.addEdge(2, 4, 1)\n",
        "g1.addEdge(3, 5, 2)\n",
        "g1.addEdge(4, 3, -1)\n",
        "g1.addEdge(5, 4, -3)\n",
        "\n",
        "g1.BellmanFord(0)"
      ],
      "metadata": {
        "colab": {
          "base_uri": "https://localhost:8080/"
        },
        "id": "UVm6RmysNR9o",
        "outputId": "1162acee-d191-4232-d5a1-c5d092582e6b"
      },
      "execution_count": null,
      "outputs": [
        {
          "output_type": "stream",
          "name": "stdout",
          "text": [
            "For graph 1:\n",
            "Vertex Distance from Source\n",
            "0\t\t0\n",
            "1\t\t5\n",
            "2\t\t1\n",
            "3\t\t7\n",
            "\n",
            "For graph 2:\n",
            "Graph contains negative weight cycle\n"
          ]
        }
      ]
    },
    {
      "cell_type": "markdown",
      "source": [
        "ADA 0/1 Knapsack Problem"
      ],
      "metadata": {
        "id": "kCfkaL3p6pyq"
      }
    },
    {
      "cell_type": "code",
      "source": [
        "#knapsack problem - only for print max profit\n",
        "def knapSack(W, wt, val, n):\n",
        "\tif n == 0 or W == 0:\n",
        "\t\treturn 0\n",
        "\tif (wt[n-1] > W):\n",
        "\t\treturn knapSack(W, wt, val, n-1)\n",
        "\telse:\n",
        "\t\treturn max(\n",
        "\t\t\tval[n-1] + knapSack(\n",
        "\t\t\t\tW-wt[n-1], wt, val, n-1),\n",
        "\t\t\tknapSack(W, wt, val, n-1))\n",
        "profit = [60, 100, 120]\n",
        "weight = [10, 20, 30]\n",
        "W = 50\n",
        "n = len(profit)\n",
        "print (knapSack(W, weight, profit, n))"
      ],
      "metadata": {
        "colab": {
          "base_uri": "https://localhost:8080/"
        },
        "id": "IHlXNu7m6tr4",
        "outputId": "f47853c4-dcf6-4183-94d4-bb94e5cd10b2"
      },
      "execution_count": null,
      "outputs": [
        {
          "output_type": "stream",
          "name": "stdout",
          "text": [
            "220\n"
          ]
        }
      ]
    },
    {
      "cell_type": "code",
      "source": [
        "#knapsack problem - for print max profit and items included both\n",
        "def knapSack(W, wt, val, n):\n",
        "    if n == 0 or W == 0:\n",
        "        return 0, []\n",
        "\n",
        "    if wt[n - 1] > W:\n",
        "        result, items = knapSack(W, wt, val, n - 1)\n",
        "        return result, items\n",
        "\n",
        "    without_including_current_item, without_items = knapSack(W, wt, val, n - 1)\n",
        "    with_including_current_item, with_items = knapSack(W - wt[n - 1], wt, val, n - 1)\n",
        "    with_including_current_item += val[n - 1]\n",
        "\n",
        "    if with_including_current_item > without_including_current_item:\n",
        "        items = with_items + [n - 1]\n",
        "        return with_including_current_item, items\n",
        "    else:\n",
        "        items = without_items\n",
        "        return without_including_current_item, items\n",
        "\n",
        "profit = [60, 100, 120]\n",
        "weight = [10, 20, 30]\n",
        "W = 50\n",
        "n = len(profit)\n",
        "max_profit, selected_items = knapSack(W, weight, profit, n)\n",
        "print(\"Maximum profit:\", max_profit)\n",
        "print(\"Items included:\")\n",
        "for item in selected_items:\n",
        "    print(f\"Item {item + 1} (Weight: {weight[item]}, Profit: {profit[item]})\")"
      ],
      "metadata": {
        "colab": {
          "base_uri": "https://localhost:8080/"
        },
        "id": "N1oR5NKX6pNl",
        "outputId": "f62225f3-4589-430a-b27c-ea939d6a4ccb"
      },
      "execution_count": null,
      "outputs": [
        {
          "output_type": "stream",
          "name": "stdout",
          "text": [
            "Maximum profit: 220\n",
            "Items included:\n",
            "Item 2 (Weight: 20, Profit: 100)\n",
            "Item 3 (Weight: 30, Profit: 120)\n"
          ]
        }
      ]
    },
    {
      "cell_type": "markdown",
      "source": [
        "ADA Strong Password"
      ],
      "metadata": {
        "id": "yyFZaPom9pM5"
      }
    },
    {
      "cell_type": "code",
      "source": [
        "def is_strong_password(password):\n",
        "    # Check if the password is at least 8 characters long\n",
        "    if len(password) < 8:\n",
        "        return False, [\"Use at least 8 characters.\"]\n",
        "\n",
        "    uppercase_found = False\n",
        "    lowercase_found = False\n",
        "    digit_found = False\n",
        "\n",
        "    for char in password:\n",
        "        if 'A' <= char <= 'Z':\n",
        "            uppercase_found = True\n",
        "        elif 'a' <= char <= 'z':\n",
        "            lowercase_found = True\n",
        "        elif '0' <= char <= '9':\n",
        "            digit_found = True\n",
        "\n",
        "    suggestions = []\n",
        "\n",
        "    if not uppercase_found:\n",
        "        suggestions.append(\"Include at least one uppercase letter.\")\n",
        "    if not lowercase_found:\n",
        "        suggestions.append(\"Include at least one lowercase letter.\")\n",
        "    if not digit_found:\n",
        "        suggestions.append(\"Include at least one digit (0-9).\")\n",
        "\n",
        "    if suggestions:\n",
        "        return False, suggestions\n",
        "\n",
        "    special_characters = \"@#$%^&+=\"\n",
        "    if not any(char in special_characters for char in password):\n",
        "        return False, [\"Include at least one special character (@, #, $, %, ^, &, +, =, etc.).\"]\n",
        "\n",
        "    return True, []\n",
        "\n",
        "def suggest_password():\n",
        "    while True:\n",
        "        password = input(\"Enter a password: \")\n",
        "        is_strong, suggestions = is_strong_password(password)\n",
        "\n",
        "        if is_strong:\n",
        "            print(\"Strong password. Good job!\")\n",
        "            break\n",
        "        else:\n",
        "            print(\"Weak password. Please consider the following suggestions:\")\n",
        "            for suggestion in suggestions:\n",
        "                print(suggestion)\n",
        "        first_attempt = False  # Set the flag to False after the first attempt\n",
        "\n",
        "if __name__ == '__main__':\n",
        "    suggest_password()"
      ],
      "metadata": {
        "colab": {
          "base_uri": "https://localhost:8080/"
        },
        "id": "X_Ok8XNE9rdJ",
        "outputId": "43fad731-5b94-4f6a-e3d7-91477e5d1250"
      },
      "execution_count": null,
      "outputs": [
        {
          "output_type": "stream",
          "name": "stdout",
          "text": [
            "Enter a password: 321546\n",
            "Weak password. Please consider the following suggestions:\n",
            "Use at least 8 characters.\n",
            "Enter a password: 12345648\n",
            "Weak password. Please consider the following suggestions:\n",
            "Include at least one uppercase letter.\n",
            "Include at least one lowercase letter.\n",
            "Enter a password: elsa132135\n",
            "Weak password. Please consider the following suggestions:\n",
            "Include at least one uppercase letter.\n",
            "Enter a password: Elsa321546\n",
            "Weak password. Please consider the following suggestions:\n",
            "Include at least one special character (@, #, $, %, ^, &, +, =, etc.).\n",
            "Enter a password: Elsa#32153165\n",
            "Strong password. Good job!\n"
          ]
        }
      ]
    },
    {
      "cell_type": "markdown",
      "source": [
        "ADA club assignment problem - same as job assignment"
      ],
      "metadata": {
        "id": "ryNPY_NS_Qph"
      }
    },
    {
      "cell_type": "code",
      "source": [
        "#ada club assignment problem - same as job assignment\n",
        "import queue\n",
        "\n",
        "N = 4  # Number of students and clubs\n",
        "\n",
        "class Node:\n",
        "    def __init__(self, x, y, assigned, parent=None):\n",
        "        self.parent = parent\n",
        "        self.pathCost = 0\n",
        "        self.cost = 0\n",
        "        self.studentID = x\n",
        "        self.clubID = y\n",
        "        self.assigned = assigned.copy()\n",
        "\n",
        "def calculateCost(costMatrix, x, y, assigned):\n",
        "    cost = 0\n",
        "    available = [True] * N\n",
        "\n",
        "    for i in range(x + 1, N):\n",
        "        min_cost = float('inf')\n",
        "        min_index = -1\n",
        "\n",
        "        for j in range(N):\n",
        "            if not assigned[j] and available[j] and costMatrix[i][j] < min_cost:\n",
        "                min_index = j\n",
        "                min_cost = costMatrix[i][j]\n",
        "\n",
        "        cost += min_cost\n",
        "        available[min_index] = False\n",
        "\n",
        "    return cost\n",
        "\n",
        "class Comp:\n",
        "    def __init__(self, node):\n",
        "        self.node = node\n",
        "\n",
        "    def __lt__(self, other):\n",
        "        return self.node.cost < other.node.cost\n",
        "\n",
        "def printAssignments(min_node):\n",
        "    if min_node.parent is None:\n",
        "        return\n",
        "\n",
        "    printAssignments(min_node.parent)\n",
        "    print(f\"Assign Student {chr(min_node.studentID + ord('A'))} to Club {min_node.clubID}\")\n",
        "\n",
        "def findMinCost(costMatrix):\n",
        "    pq = queue.PriorityQueue()\n",
        "\n",
        "    assigned = [False] * N\n",
        "    root = Node(-1, -1, assigned, None)\n",
        "    root.pathCost = root.cost = 0\n",
        "    root.studentID = -1\n",
        "\n",
        "    pq.put(Comp(root))\n",
        "\n",
        "    while not pq.empty():\n",
        "        min_comp = pq.get()\n",
        "        min_node = min_comp.node\n",
        "\n",
        "        i = min_node.studentID + 1\n",
        "\n",
        "        if i == N:\n",
        "            printAssignments(min_node)\n",
        "            return min_node.cost\n",
        "\n",
        "        for j in range(N):\n",
        "            if not min_node.assigned[j]:\n",
        "                child = Node(i, j, min_node.assigned, min_node)\n",
        "                child.pathCost = min_node.pathCost + costMatrix[i][j]\n",
        "                child.cost = child.pathCost + calculateCost(costMatrix, i, j, child.assigned)\n",
        "                pq.put(Comp(child))\n",
        "                child.assigned[j] = True\n",
        "\n",
        "if __name__ == \"__main__\":\n",
        "    costMatrix = [\n",
        "        [9, 2, 7, 8],\n",
        "        [6, 4, 3, 7],\n",
        "        [5, 8, 1, 8],\n",
        "        [7, 6, 9, 4]\n",
        "    ]\n",
        "\n",
        "    print(\"\\nOptimal Cost is\", findMinCost(costMatrix))\n"
      ],
      "metadata": {
        "id": "N5jXIu4H9tLx",
        "colab": {
          "base_uri": "https://localhost:8080/"
        },
        "outputId": "f4494ffe-bd67-4e0d-8568-2bec71fde8a8"
      },
      "execution_count": null,
      "outputs": [
        {
          "output_type": "stream",
          "name": "stdout",
          "text": [
            "Assign Student A to Club 1\n",
            "Assign Student B to Club 0\n",
            "Assign Student C to Club 2\n",
            "Assign Student D to Club 3\n",
            "\n",
            "Optimal Cost is 13\n"
          ]
        }
      ]
    },
    {
      "cell_type": "markdown",
      "source": [
        "ADA Parallel Sort"
      ],
      "metadata": {
        "id": "rH1DL5CsQfXr"
      }
    },
    {
      "cell_type": "code",
      "source": [
        "#Parallel Sort\n",
        "'''\n",
        "//Run the code in VS Code/other c++ compiler\n",
        "// C++ program to implement the Quick Sort\n",
        "// using OMI\n",
        "#include <bits/stdc++.h>\n",
        "#include <omp.h>\n",
        "using namespace std;\n",
        "\n",
        "// Function to swap two numbers a and b\n",
        "void swap(int* a, int* b)\n",
        "{\n",
        "    int t = *a;\n",
        "    *a = *b;\n",
        "    *b = t;\n",
        "}\n",
        "\n",
        "// Function to perform the partitioning\n",
        "// of array arr[]\n",
        "int partition(int arr[], int start, int end)\n",
        "{\n",
        "    // Declaration\n",
        "    int pivot = arr[end];\n",
        "    int i = (start - 1);\n",
        "\n",
        "    // Rearranging the array\n",
        "    for (int j = start; j <= end - 1; j++) {\n",
        "        if (arr[j] < pivot) {\n",
        "            i++;\n",
        "            swap(&arr[i], &arr[j]);\n",
        "        }\n",
        "    }\n",
        "    swap(&arr[i + 1], &arr[end]);\n",
        "\n",
        "    // Returning the respective index\n",
        "    return (i + 1);\n",
        "}\n",
        "\n",
        "// Function to perform QuickSort Algorithm\n",
        "// using openmp\n",
        "void quicksort(int arr[], int start, int end)\n",
        "{\n",
        "    // Declaration\n",
        "    int index;\n",
        "\n",
        "    if (start < end) {\n",
        "\n",
        "        // Getting the index of pivot\n",
        "        // by partitioning\n",
        "        index = partition(arr, start, end);\n",
        "\n",
        "// Parallel sections\n",
        "#pragma omp parallel sections\n",
        "        {\n",
        "#pragma omp section\n",
        "            {\n",
        "                // Evaluating the left half\n",
        "                quicksort(arr, start, index - 1);\n",
        "            }\n",
        "#pragma omp section\n",
        "            {\n",
        "                // Evaluating the right half\n",
        "                quicksort(arr, index + 1, end);\n",
        "            }\n",
        "        }\n",
        "    }\n",
        "}\n",
        "\n",
        "// Driver Code\n",
        "int main()\n",
        "{\n",
        "    // Declaration\n",
        "    int N;\n",
        "\n",
        "    // Taking input the number of\n",
        "    // elements we wants\n",
        "    cout << \"Enter the number of elements\"\n",
        "         << \" you want to Enter\\n\";\n",
        "    cin >> N;\n",
        "\n",
        "    // Declaration of array\n",
        "    int arr[N];\n",
        "\n",
        "    cout << \"Enter the array: \\n\";\n",
        "\n",
        "    // Taking input that array\n",
        "    for (int i = 0; i < N; i++) {\n",
        "        cin >> arr[i];\n",
        "    }\n",
        "\n",
        "    // Calling quicksort having parallel\n",
        "    // code implementation\n",
        "    quicksort(arr, 0, N - 1);\n",
        "\n",
        "    // Printing the sorted array\n",
        "    cout << \"Array after Sorting is: \\n\";\n",
        "\n",
        "    for (int i = 0; i < N; i++) {\n",
        "        cout << arr[i] << \" \";\n",
        "    }\n",
        "\n",
        "    return 0;\n",
        "}\n",
        "'''"
      ],
      "metadata": {
        "id": "13Er2poK_IVW"
      },
      "execution_count": null,
      "outputs": []
    },
    {
      "cell_type": "markdown",
      "source": [
        "ADA Vertex Cover"
      ],
      "metadata": {
        "id": "WyqluU2nQnUd"
      }
    },
    {
      "cell_type": "code",
      "source": [
        "# Vertex Cover\n",
        "from collections import defaultdict\n",
        "\n",
        "class Graph:\n",
        "\n",
        "\tdef __init__(self, vertices):\n",
        "\n",
        "\t\tself.V = vertices\n",
        "\n",
        "\t\tself.graph = defaultdict(list)\n",
        "\n",
        "\tdef addEdge(self, u, v):\n",
        "\t\tself.graph[u].append(v)\n",
        "\n",
        "\tdef printVertexCover(self):\n",
        "\n",
        "\t\tvisited = [False] * (self.V)\n",
        "\t\tprint(\"Vertex Cover: \")\n",
        "\t\tfor u in range(self.V):\n",
        "\n",
        "\t\t\t# An edge is only picked when\n",
        "\t\t\t# both visited[u] and visited[v]\n",
        "\t\t\t# are false\n",
        "\t\t\tif not visited[u]:\n",
        "\n",
        "\t\t\t\t# Go through all adjacents of u and\n",
        "\t\t\t\t# pick the first not yet visited vertex\n",
        "\t\t\t\tfor v in self.graph[u]:\n",
        "\t\t\t\t\tif not visited[v]:\n",
        "\n",
        "\t\t\t\t\t\t# Add the vertices (u, v) to the\n",
        "\t\t\t\t\t\t# result set. We make the vertex\n",
        "\t\t\t\t\t\t# u and v visited so that all\n",
        "\t\t\t\t\t\t# edges from/to them would\n",
        "\t\t\t\t\t\t# be ignored\n",
        "\t\t\t\t\t\tvisited[v] = True\n",
        "\t\t\t\t\t\tvisited[u] = True\n",
        "\t\t\t\t\t\tbreak\n",
        "\n",
        "\t\t# Print the vertex cover\n",
        "\t\tfor j in range(self.V):\n",
        "\t\t\tif visited[j]:\n",
        "\t\t\t\tprint(j, end = ' ')\n",
        "\n",
        "\t\tprint()\n",
        "\n",
        "g = Graph(7)\n",
        "g.addEdge(0, 1)\n",
        "g.addEdge(0, 2)\n",
        "g.addEdge(1, 3)\n",
        "g.addEdge(3, 4)\n",
        "g.addEdge(4, 5)\n",
        "g.addEdge(5, 6)\n",
        "\n",
        "g.printVertexCover()"
      ],
      "metadata": {
        "id": "Y3HFM2lTQo25",
        "outputId": "97517e74-a0fc-4276-8304-19c5659323ba",
        "colab": {
          "base_uri": "https://localhost:8080/"
        }
      },
      "execution_count": null,
      "outputs": [
        {
          "output_type": "stream",
          "name": "stdout",
          "text": [
            "Vertex Cover: \n",
            "0 1 3 4 5 6 \n"
          ]
        }
      ]
    }
  ]
}