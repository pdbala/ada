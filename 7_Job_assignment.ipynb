{
 "cells": [
  {
   "cell_type": "code",
   "execution_count": 1,
   "id": "46594bc7",
   "metadata": {},
   "outputs": [],
   "source": [
    "import numpy as np\n",
    "import itertools"
   ]
  },
  {
   "cell_type": "code",
   "execution_count": 2,
   "id": "0086d038",
   "metadata": {},
   "outputs": [],
   "source": [
    "def branch_and_bound(n, cost_matrix):\n",
    "    def calculate_bound(assignment):\n",
    "        bound = 0\n",
    "        unassigned_workers = list(range(n))\n",
    "        for worker, job in enumerate(assignment):\n",
    "            bound += cost_matrix[worker][job]\n",
    "            unassigned_workers.remove(worker)\n",
    "        for worker in unassigned_workers:\n",
    "            min_cost = min(cost_matrix[worker])\n",
    "            bound += min_cost\n",
    "        return bound\n",
    "\n",
    "    def dfs(assignment, depth, cost, best_assignment, best_cost):\n",
    "        if depth == n:\n",
    "            if cost < best_cost[0]:\n",
    "                best_cost[0] = cost\n",
    "                best_assignment[0] = assignment.copy()\n",
    "            return\n",
    "\n",
    "        for job in range(n):\n",
    "            if job not in assignment:\n",
    "                new_assignment = assignment.copy()\n",
    "                new_assignment.append(job)\n",
    "                bound = calculate_bound(new_assignment)\n",
    "                if bound < best_cost[0]:\n",
    "                    dfs(new_assignment, depth + 1, cost + cost_matrix[depth][job], best_assignment, best_cost)\n",
    "\n",
    "    best_assignment = [None]\n",
    "    best_cost = [float('inf')]\n",
    "    initial_assignment = []\n",
    "    dfs(initial_assignment, 0, 0, best_assignment, best_cost)\n",
    "\n",
    "    return best_assignment[0], best_cost[0]"
   ]
  },
  {
   "cell_type": "code",
   "execution_count": 3,
   "id": "23faf143",
   "metadata": {},
   "outputs": [
    {
     "name": "stdout",
     "output_type": "stream",
     "text": [
      "Optimal Assignment: [1, 0, 2, 3]\n",
      "Total Cost: 13\n"
     ]
    }
   ],
   "source": [
    "if __name__ == \"__main__\":\n",
    "    n = 4  \n",
    "    cost_matrix = np.array([\n",
    "        [9, 2, 7, 8],\n",
    "        [6, 4, 3, 7],\n",
    "        [5, 8, 1, 8],\n",
    "        [7, 6, 9, 4]\n",
    "    ])\n",
    "\n",
    "    assignment, total_cost = branch_and_bound(n, cost_matrix)\n",
    "    print(\"Optimal Assignment:\", assignment)\n",
    "    print(\"Total Cost:\", total_cost)\n"
   ]
  },
  {
   "cell_type": "code",
   "execution_count": null,
   "id": "58b38974",
   "metadata": {},
   "outputs": [],
   "source": []
  }
 ],
 "metadata": {
  "kernelspec": {
   "display_name": "Python 3 (ipykernel)",
   "language": "python",
   "name": "python3"
  },
  "language_info": {
   "codemirror_mode": {
    "name": "ipython",
    "version": 3
   },
   "file_extension": ".py",
   "mimetype": "text/x-python",
   "name": "python",
   "nbconvert_exporter": "python",
   "pygments_lexer": "ipython3",
   "version": "3.11.4"
  }
 },
 "nbformat": 4,
 "nbformat_minor": 5
}
