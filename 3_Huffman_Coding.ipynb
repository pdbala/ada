{
 "cells": [
  {
   "cell_type": "code",
   "execution_count": 8,
   "id": "6f7962e1",
   "metadata": {},
   "outputs": [],
   "source": [
    "import heapq"
   ]
  },
  {
   "cell_type": "code",
   "execution_count": 9,
   "id": "ffdc58aa",
   "metadata": {},
   "outputs": [],
   "source": [
    "class Node:\n",
    "    def __init__ (self,data,frequency,left=None,right=None):\n",
    "        self.data=data\n",
    "        self.frequency=frequency\n",
    "        self.left=left\n",
    "        self.right=right\n",
    "\n",
    "        self.h=''\n",
    "\n",
    "    def __lt__(self,next):\n",
    "        return (self.frequency<next.frequency)"
   ]
  },
  {
   "cell_type": "code",
   "execution_count": 10,
   "id": "7b57fdb7",
   "metadata": {},
   "outputs": [],
   "source": [
    "def display(node,value=''):\n",
    "    nval=value+str(node.h)\n",
    "    if(node.left):\n",
    "        display(node.left,nval)\n",
    "    if(node.right):\n",
    "        display(node.right,nval)\n",
    "    if(not node.left and not node.right):\n",
    "        print(f\"{node.data} -> {nval}\")"
   ]
  },
  {
   "cell_type": "code",
   "execution_count": 11,
   "id": "72b71a99",
   "metadata": {},
   "outputs": [],
   "source": [
    "chars = ['a','e','i','o','u','s','t']\n",
    "freq = [10,15,12,3,4,13,1]\n",
    "nodes=[]\n",
    "for x in range(len(freq)):\n",
    "    heapq.heappush(nodes,Node(chars[x],freq[x]))\n",
    "while len(nodes)>1:\n",
    "    left=heapq.heappop(nodes)\n",
    "    right=heapq.heappop(nodes)\n",
    "    left.h=0\n",
    "    right.h=1\n",
    "    NewNode=Node(left.data+right.data,left.frequency+right.frequency,left,right)\n",
    "    heapq.heappush(nodes,NewNode)"
   ]
  },
  {
   "cell_type": "code",
   "execution_count": 12,
   "id": "7820292e",
   "metadata": {},
   "outputs": [
    {
     "name": "stdout",
     "output_type": "stream",
     "text": [
      "i -> 00\n",
      "s -> 01\n",
      "e -> 10\n",
      "u -> 1100\n",
      "t -> 11010\n",
      "o -> 11011\n",
      "a -> 111\n"
     ]
    }
   ],
   "source": [
    "display(nodes[0])"
   ]
  },
  {
   "cell_type": "code",
   "execution_count": null,
   "id": "c1f84c6c",
   "metadata": {},
   "outputs": [],
   "source": [
    "O(N*log(N))\n",
    "O(n)"
   ]
  }
 ],
 "metadata": {
  "kernelspec": {
   "display_name": "Python 3 (ipykernel)",
   "language": "python",
   "name": "python3"
  },
  "language_info": {
   "codemirror_mode": {
    "name": "ipython",
    "version": 3
   },
   "file_extension": ".py",
   "mimetype": "text/x-python",
   "name": "python",
   "nbconvert_exporter": "python",
   "pygments_lexer": "ipython3",
   "version": "3.11.4"
  }
 },
 "nbformat": 4,
 "nbformat_minor": 5
}
