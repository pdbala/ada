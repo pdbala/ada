{
 "cells": [
  {
   "cell_type": "code",
   "execution_count": 18,
   "id": "7975b241",
   "metadata": {},
   "outputs": [],
   "source": [
    "def knapsack(wt, val, W, n):\n",
    "    if n == 0 or W == 0:\n",
    "        return 0\n",
    "    if t[n][W] != -1:\n",
    "        return t[n][W]\n",
    "\n",
    "    if wt[n-1] <= W:\n",
    "        t[n][W] = max(\n",
    "            val[n-1] + knapsack(\n",
    "                wt, val, W-wt[n-1], n-1),\n",
    "            knapsack(wt, val, W, n-1))\n",
    "        return t[n][W]\n",
    "    elif wt[n-1] > W:\n",
    "        t[n][W] = knapsack(wt, val, W, n-1)\n",
    "        return t[n][W]"
   ]
  },
  {
   "cell_type": "code",
   "execution_count": 19,
   "id": "f02a91a6",
   "metadata": {},
   "outputs": [
    {
     "name": "stdout",
     "output_type": "stream",
     "text": [
      "220\n"
     ]
    }
   ],
   "source": [
    "profit = [60, 100, 120]\n",
    "weight = [10, 20, 30]\n",
    "W = 50\n",
    "n = len(profit)\n",
    "\n",
    "t = [[-1 for i in range(W + 1)] for j in range(n + 1)]\n",
    "\n",
    "print(knapsack(weight, profit, W, n))"
   ]
  },
  {
   "cell_type": "code",
   "execution_count": 24,
   "id": "c212aed0",
   "metadata": {},
   "outputs": [
    {
     "name": "stdout",
     "output_type": "stream",
     "text": [
      "[[0, 0, 0, 0, 0, 0, 0, 0, 0, 0], [0, 0, 0, 0, 0, 0, 0, 0, 0, 3], [0, 0, 0, 40, 40, 40, 40, 40, 40, 40], [0, 0, 0, 40, 40, 40, 40, 45, 45, 45], [0, 0, 0, 40, 40, 40, 40, 45, 60, 60]]\n",
      "Maximum value: 60\n",
      "Selected items: [2, 4]\n"
     ]
    }
   ],
   "source": [
    "def knapsack_01(weights, values, capacity):\n",
    "    n = len(values)\n",
    "    # Create a 2D DP table to store the maximum value for each weight capacity\n",
    "    dp = [[0 for _ in range(capacity + 1)] for _ in range(n + 1)]\n",
    "\n",
    "    for i in range(1, n + 1):\n",
    "        for w in range(1, capacity + 1):\n",
    "            # If the current item's weight exceeds the capacity, skip it\n",
    "            if weights[i - 1] > w:\n",
    "                dp[i][w] = dp[i - 1][w]\n",
    "            else:\n",
    "                # Select the maximum value between including and excluding the current item\n",
    "                dp[i][w] = max(dp[i - 1][w], values[i - 1] + dp[i - 1][w - weights[i - 1]])\n",
    "\n",
    "    # Trace back to find the selected items\n",
    "    selected_items = []\n",
    "    w = capacity\n",
    "    for i in range(n, 0, -1):\n",
    "        if dp[i][w] != dp[i - 1][w]:\n",
    "            selected_items.append(i)\n",
    "            w -= weights[i - 1]\n",
    "\n",
    "    selected_items.reverse()\n",
    "    print(dp)\n",
    "    return dp[n][capacity], selected_items\n",
    "\n",
    "# Example usage:\n",
    "weights = [9, 3, 4, 5]\n",
    "values = [3, 40, 5, 20]\n",
    "knapsack_capacity = 9\n",
    "\n",
    "max_value, selected_items = knapsack_01(weights, values, knapsack_capacity)\n",
    "print(\"Maximum value:\", max_value)\n",
    "print(\"Selected items:\", selected_items)\n"
   ]
  },
  {
   "cell_type": "code",
   "execution_count": null,
   "id": "79f61eb4",
   "metadata": {},
   "outputs": [],
   "source": [
    "O(n*w)"
   ]
  }
 ],
 "metadata": {
  "kernelspec": {
   "display_name": "Python 3 (ipykernel)",
   "language": "python",
   "name": "python3"
  },
  "language_info": {
   "codemirror_mode": {
    "name": "ipython",
    "version": 3
   },
   "file_extension": ".py",
   "mimetype": "text/x-python",
   "name": "python",
   "nbconvert_exporter": "python",
   "pygments_lexer": "ipython3",
   "version": "3.11.4"
  }
 },
 "nbformat": 4,
 "nbformat_minor": 5
}
